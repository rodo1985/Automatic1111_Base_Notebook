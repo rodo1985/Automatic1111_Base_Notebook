{
 "cells": [
  {
   "cell_type": "markdown",
   "id": "4e05eab5",
   "metadata": {},
   "source": [
    "# **Automatic1111 base notebook** \n",
    "**Notebook creado por [Sergio Redondo](https://www.linkedin.com/in/sergioredondocabanillas/)**"
   ]
  },
  {
   "cell_type": "markdown",
   "id": "228776d3",
   "metadata": {},
   "source": [
    "Es recomendable reiniciar el kernel antes de ejecutar todo para reiniciar las rutas del repositorio."
   ]
  },
  {
   "cell_type": "markdown",
   "id": "bc7b8646-9f39-494c-b266-70a16e077300",
   "metadata": {},
   "source": [
    "# Instalacion"
   ]
  },
  {
   "cell_type": "markdown",
   "id": "4b5e538c",
   "metadata": {},
   "source": [
    "Importamos las librerias"
   ]
  },
  {
   "cell_type": "code",
   "execution_count": 1,
   "id": "14da0504",
   "metadata": {
    "tags": []
   },
   "outputs": [],
   "source": [
    "import os\n",
    "import requests\n",
    "from tqdm.auto import tqdm"
   ]
  },
  {
   "cell_type": "markdown",
   "id": "e66ee3f8",
   "metadata": {},
   "source": [
    "Este metodo nos permitira descargar los modelos y demas"
   ]
  },
  {
   "cell_type": "code",
   "execution_count": 2,
   "id": "8c8067cd",
   "metadata": {
    "tags": []
   },
   "outputs": [],
   "source": [
    "def download_file(url, save_name):\n",
    "    if not os.path.exists(save_name):\n",
    "        print(f\"Downloading file\")\n",
    "        file = requests.get(url, stream=True)\n",
    "        total_size = int(file.headers.get('content-length', 0))\n",
    "        block_size = 1024\n",
    "        progress_bar = tqdm(\n",
    "            total=total_size, \n",
    "            unit='iB', \n",
    "            unit_scale=True\n",
    "        )\n",
    "        with open(os.path.join(save_name), 'wb') as f:\n",
    "            for data in file.iter_content(block_size):\n",
    "                progress_bar.update(len(data))\n",
    "                f.write(data)\n",
    "        progress_bar.close()\n",
    "    else:\n",
    "        print('File already present')"
   ]
  },
  {
   "cell_type": "markdown",
   "id": "608a18d7",
   "metadata": {},
   "source": [
    "Clonamos el repositorio"
   ]
  },
  {
   "cell_type": "code",
   "execution_count": 3,
   "id": "06b3fffd",
   "metadata": {
    "tags": []
   },
   "outputs": [
    {
     "name": "stdout",
     "output_type": "stream",
     "text": [
      "Cloning into 'stable-diffusion-webui'...\n",
      "remote: Enumerating objects: 27826, done.\u001b[K\n",
      "remote: Counting objects: 100% (175/175), done.\u001b[K\n",
      "remote: Compressing objects: 100% (94/94), done.\u001b[K\n",
      "remote: Total 27826 (delta 107), reused 136 (delta 81), pack-reused 27651\u001b[K\n",
      "Receiving objects: 100% (27826/27826), 32.48 MiB | 29.41 MiB/s, done.\n",
      "Resolving deltas: 100% (19463/19463), done.\n"
     ]
    }
   ],
   "source": [
    "if not os.path.exists('stable-diffusion-webui'):\n",
    "    !git clone https://github.com/AUTOMATIC1111/stable-diffusion-webui.git"
   ]
  },
  {
   "cell_type": "markdown",
   "id": "a9d590e9-e948-468d-9435-b71f51842983",
   "metadata": {},
   "source": [
    "# Download models"
   ]
  },
  {
   "cell_type": "markdown",
   "id": "8b5e7b9e",
   "metadata": {},
   "source": [
    "Navegamos a la ruta donde descargaremos los modelos"
   ]
  },
  {
   "cell_type": "code",
   "execution_count": 4,
   "id": "e676564b",
   "metadata": {
    "tags": []
   },
   "outputs": [
    {
     "name": "stdout",
     "output_type": "stream",
     "text": [
      "/home/sorb/source_code/Automatic1111_Base_Notebook/stable-diffusion-webui/models/Stable-diffusion\n"
     ]
    }
   ],
   "source": [
    "%cd stable-diffusion-webui/models/Stable-diffusion"
   ]
  },
  {
   "cell_type": "markdown",
   "id": "4de6347c",
   "metadata": {},
   "source": [
    "Descargamos los modelos"
   ]
  },
  {
   "cell_type": "code",
   "execution_count": 5,
   "id": "500a9088",
   "metadata": {
    "tags": []
   },
   "outputs": [
    {
     "name": "stdout",
     "output_type": "stream",
     "text": [
      "Downloading file\n"
     ]
    },
    {
     "data": {
      "application/vnd.jupyter.widget-view+json": {
       "model_id": "f947a321c3d04ed983f6534c391e26ab",
       "version_major": 2,
       "version_minor": 0
      },
      "text/plain": [
       "  0%|          | 0.00/4.27G [00:00<?, ?iB/s]"
      ]
     },
     "metadata": {},
     "output_type": "display_data"
    }
   ],
   "source": [
    "download_file(\n",
    "    'https://huggingface.co/runwayml/stable-diffusion-v1-5/resolve/main/v1-5-pruned-emaonly.ckpt',\n",
    "    'v1-5-pruned-emaonly.ckpt'\n",
    ")"
   ]
  },
  {
   "cell_type": "code",
   "execution_count": 6,
   "id": "5d048826",
   "metadata": {
    "tags": []
   },
   "outputs": [
    {
     "name": "stdout",
     "output_type": "stream",
     "text": [
      "Downloading file\n"
     ]
    },
    {
     "data": {
      "application/vnd.jupyter.widget-view+json": {
       "model_id": "cfc01854b0df4a5fa4be6d3135068297",
       "version_major": 2,
       "version_minor": 0
      },
      "text/plain": [
       "  0%|          | 0.00/5.21G [00:00<?, ?iB/s]"
      ]
     },
     "metadata": {},
     "output_type": "display_data"
    }
   ],
   "source": [
    "download_file(\n",
    "    'https://huggingface.co/stabilityai/stable-diffusion-2-1-base/resolve/main/v2-1_512-ema-pruned.ckpt',\n",
    "    'v2-1_512-ema-pruned.ckpt'\n",
    ")"
   ]
  },
  {
   "cell_type": "code",
   "execution_count": 7,
   "id": "07f0e63b-8561-4669-b53f-e1c24165d00b",
   "metadata": {},
   "outputs": [
    {
     "name": "stdout",
     "output_type": "stream",
     "text": [
      "Downloading file\n"
     ]
    },
    {
     "data": {
      "application/vnd.jupyter.widget-view+json": {
       "model_id": "24da05afd7094bd0bd4b919067515297",
       "version_major": 2,
       "version_minor": 0
      },
      "text/plain": [
       "  0%|          | 0.00/6.94G [00:00<?, ?iB/s]"
      ]
     },
     "metadata": {},
     "output_type": "display_data"
    }
   ],
   "source": [
    "download_file(\n",
    "    'https://huggingface.co/stabilityai/stable-diffusion-xl-base-1.0/resolve/main/sd_xl_base_1.0.safetensors',\n",
    "    'sd_xl_base_1.0.safetensors'\n",
    ")"
   ]
  },
  {
   "cell_type": "code",
   "execution_count": 8,
   "id": "7c90dee0-694a-456a-a495-301c26e8b99d",
   "metadata": {},
   "outputs": [
    {
     "name": "stdout",
     "output_type": "stream",
     "text": [
      "Downloading file\n"
     ]
    },
    {
     "data": {
      "application/vnd.jupyter.widget-view+json": {
       "model_id": "a31fe106cd814d64ae392a942215dfeb",
       "version_major": 2,
       "version_minor": 0
      },
      "text/plain": [
       "  0%|          | 0.00/2.13G [00:00<?, ?iB/s]"
      ]
     },
     "metadata": {},
     "output_type": "display_data"
    }
   ],
   "source": [
    "download_file(\n",
    "    'https://civitai.com/api/download/models/130072',\n",
    "    'realisticVisionV51_v51VAE.safetensors'\n",
    ")"
   ]
  },
  {
   "cell_type": "code",
   "execution_count": 9,
   "id": "8a8c0c2f-eac4-43d8-bca8-a919ff9eda9f",
   "metadata": {},
   "outputs": [
    {
     "name": "stdout",
     "output_type": "stream",
     "text": [
      "Downloading file\n"
     ]
    },
    {
     "data": {
      "application/vnd.jupyter.widget-view+json": {
       "model_id": "d4e7d6fca80842b281d52845c43ad655",
       "version_major": 2,
       "version_minor": 0
      },
      "text/plain": [
       "  0%|          | 0.00/2.30G [00:00<?, ?iB/s]"
      ]
     },
     "metadata": {},
     "output_type": "display_data"
    }
   ],
   "source": [
    "download_file(\n",
    "    'https://civitai.com/api/download/models/125771',\n",
    "    'toonyou.safetensors'\n",
    ")"
   ]
  },
  {
   "cell_type": "markdown",
   "id": "b8c596e8",
   "metadata": {},
   "source": [
    "# LORA models"
   ]
  },
  {
   "cell_type": "markdown",
   "id": "1b3b0a5e",
   "metadata": {},
   "source": [
    "Creamos la carpeta lora si no existe"
   ]
  },
  {
   "cell_type": "code",
   "execution_count": 10,
   "id": "d4174bec",
   "metadata": {},
   "outputs": [
    {
     "name": "stdout",
     "output_type": "stream",
     "text": [
      "/home/sorb/source_code/Automatic1111_Base_Notebook/stable-diffusion-webui/models\n"
     ]
    }
   ],
   "source": [
    "%cd .."
   ]
  },
  {
   "cell_type": "code",
   "execution_count": 11,
   "id": "f646faf6",
   "metadata": {},
   "outputs": [],
   "source": [
    "import os\n",
    "\n",
    "if not os.path.exists('Lora'):\n",
    "    os.mkdir('Lora')"
   ]
  },
  {
   "cell_type": "code",
   "execution_count": 12,
   "id": "40398180",
   "metadata": {},
   "outputs": [
    {
     "name": "stdout",
     "output_type": "stream",
     "text": [
      "/home/sorb/source_code/Automatic1111_Base_Notebook/stable-diffusion-webui/models/Lora\n"
     ]
    }
   ],
   "source": [
    "%cd Lora"
   ]
  },
  {
   "cell_type": "code",
   "execution_count": 13,
   "id": "1d8ba74f",
   "metadata": {},
   "outputs": [
    {
     "name": "stdout",
     "output_type": "stream",
     "text": [
      "Downloading file\n"
     ]
    },
    {
     "data": {
      "application/vnd.jupyter.widget-view+json": {
       "model_id": "2cb06769de434d08852ed14cc19f3d3f",
       "version_major": 2,
       "version_minor": 0
      },
      "text/plain": [
       "  0%|          | 0.00/302M [00:00<?, ?iB/s]"
      ]
     },
     "metadata": {},
     "output_type": "display_data"
    }
   ],
   "source": [
    "download_file(\n",
    "    'https://civitai.com/api/download/models/5737',\n",
    "    'toriyama_akira_3.safetensors'\n",
    ")"
   ]
  },
  {
   "cell_type": "markdown",
   "id": "57878849-0a9c-45c4-b692-71520a220441",
   "metadata": {},
   "source": [
    "# CONTROLNET"
   ]
  },
  {
   "cell_type": "markdown",
   "id": "18d68ed0",
   "metadata": {},
   "source": [
    "Creamos la carpeta controlnet si no existe"
   ]
  },
  {
   "cell_type": "code",
   "execution_count": 14,
   "id": "5c1b54b6",
   "metadata": {},
   "outputs": [
    {
     "name": "stdout",
     "output_type": "stream",
     "text": [
      "/home/sorb/source_code/Automatic1111_Base_Notebook/stable-diffusion-webui/extensions\n"
     ]
    }
   ],
   "source": [
    "%cd ../../extensions"
   ]
  },
  {
   "cell_type": "code",
   "execution_count": 15,
   "id": "8a346094",
   "metadata": {},
   "outputs": [],
   "source": [
    "import os\n",
    "\n",
    "if not os.path.exists('sd-webui-controlnet'):\n",
    "    os.mkdir('sd-webui-controlnet')\n",
    "    os.mkdir('sd-webui-controlnet/models')"
   ]
  },
  {
   "cell_type": "markdown",
   "id": "117272ee",
   "metadata": {},
   "source": [
    "Navegamos a la ruta donde descargaremos los modelos de controlnet"
   ]
  },
  {
   "cell_type": "code",
   "execution_count": 21,
   "id": "fe55d5f6-88c3-41c1-89e1-dd6290f3bfe9",
   "metadata": {},
   "outputs": [
    {
     "name": "stdout",
     "output_type": "stream",
     "text": [
      "/home/sorb/source_code/Automatic1111_Base_Notebook/stable-diffusion-webui/extensions/sd-webui-controlnet/models\n"
     ]
    }
   ],
   "source": [
    "%cd sd-webui-controlnet/models"
   ]
  },
  {
   "cell_type": "code",
   "execution_count": 17,
   "id": "ccbc1cfd-86c8-42d1-bf8f-43bc0cc43c85",
   "metadata": {},
   "outputs": [
    {
     "name": "stdout",
     "output_type": "stream",
     "text": [
      "Cloning into 'ControlNet-v1-1'...\n",
      "remote: Enumerating objects: 42, done.\u001b[K\n",
      "remote: Total 42 (delta 0), reused 0 (delta 0), pack-reused 42\u001b[K\n",
      "Unpacking objects: 100% (42/42), 5.90 KiB | 755.00 KiB/s, done.\n"
     ]
    }
   ],
   "source": [
    "!git clone https://huggingface.co/lllyasviel/ControlNet-v1-1"
   ]
  },
  {
   "cell_type": "code",
   "execution_count": 18,
   "id": "fdde481c-6a41-4939-8a0a-f05bc827a741",
   "metadata": {},
   "outputs": [],
   "source": [
    "import os\n",
    "import shutil\n",
    "\n",
    "# Move all .pth files to parent directory\n",
    "src_dir = 'ControlNet-v1-1'\n",
    "dst_dir = ''\n",
    "for file_name in os.listdir(src_dir):\n",
    "    if file_name.endswith('.pth'):\n",
    "        src_path = os.path.join(src_dir, file_name)\n",
    "        dst_path = os.path.join(dst_dir, file_name)\n",
    "        shutil.move(src_path, dst_path)\n",
    "\n",
    "# Remove ControlNet-v1-1 directory\n",
    "shutil.rmtree(src_dir)"
   ]
  },
  {
   "cell_type": "markdown",
   "id": "f6624a92-36e5-4d8f-9575-4e3aaf7c5519",
   "metadata": {},
   "source": [
    "# RUNNING"
   ]
  },
  {
   "cell_type": "code",
   "execution_count": 22,
   "id": "fb7dd593",
   "metadata": {
    "tags": []
   },
   "outputs": [
    {
     "name": "stdout",
     "output_type": "stream",
     "text": [
      "/home/sorb/source_code/Automatic1111_Base_Notebook/stable-diffusion-webui\n"
     ]
    }
   ],
   "source": [
    "%cd ../../.."
   ]
  },
  {
   "cell_type": "code",
   "execution_count": 23,
   "id": "cc057f5b",
   "metadata": {
    "tags": []
   },
   "outputs": [
    {
     "name": "stdout",
     "output_type": "stream",
     "text": [
      "Python 3.10.12 | packaged by conda-forge | (main, Jun 23 2023, 22:40:32) [GCC 12.3.0]\n",
      "Version: v1.6.0\n",
      "Commit hash: 5ef669de080814067961f28357256e8fe27544f4\n",
      "Cloning Stable Diffusion into /home/sorb/source_code/Automatic1111_Base_Notebook/stable-diffusion-webui/repositories/stable-diffusion-stability-ai...\n",
      "Cloning into '/home/sorb/source_code/Automatic1111_Base_Notebook/stable-diffusion-webui/repositories/stable-diffusion-stability-ai'...\n",
      "remote: Enumerating objects: 577, done.\u001b[K\n",
      "remote: Counting objects: 100% (307/307), done.\u001b[K\n",
      "remote: Compressing objects: 100% (91/91), done.\u001b[K\n",
      "remote: Total 577 (delta 246), reused 217 (delta 216), pack-reused 270\u001b[K\n",
      "Receiving objects: 100% (577/577), 73.43 MiB | 32.66 MiB/s, done.\n",
      "Resolving deltas: 100% (278/278), done.\n",
      "Cloning Stable Diffusion XL into /home/sorb/source_code/Automatic1111_Base_Notebook/stable-diffusion-webui/repositories/generative-models...\n",
      "Cloning into '/home/sorb/source_code/Automatic1111_Base_Notebook/stable-diffusion-webui/repositories/generative-models'...\n",
      "remote: Enumerating objects: 740, done.\u001b[K\n",
      "remote: Counting objects: 100% (383/383), done.\u001b[K\n",
      "remote: Compressing objects: 100% (145/145), done.\u001b[K\n",
      "remote: Total 740 (delta 301), reused 238 (delta 238), pack-reused 357\u001b[K\n",
      "Receiving objects: 100% (740/740), 22.31 MiB | 23.27 MiB/s, done.\n",
      "Resolving deltas: 100% (377/377), done.\n",
      "Cloning K-diffusion into /home/sorb/source_code/Automatic1111_Base_Notebook/stable-diffusion-webui/repositories/k-diffusion...\n",
      "Cloning into '/home/sorb/source_code/Automatic1111_Base_Notebook/stable-diffusion-webui/repositories/k-diffusion'...\n",
      "remote: Enumerating objects: 1302, done.\u001b[K\n",
      "remote: Counting objects: 100% (1302/1302), done.\u001b[K\n",
      "remote: Compressing objects: 100% (412/412), done.\u001b[K\n",
      "remote: Total 1302 (delta 913), reused 1239 (delta 883), pack-reused 0\u001b[K\n",
      "Receiving objects: 100% (1302/1302), 232.58 KiB | 1.76 MiB/s, done.\n",
      "Resolving deltas: 100% (913/913), done.\n",
      "Cloning CodeFormer into /home/sorb/source_code/Automatic1111_Base_Notebook/stable-diffusion-webui/repositories/CodeFormer...\n",
      "Cloning into '/home/sorb/source_code/Automatic1111_Base_Notebook/stable-diffusion-webui/repositories/CodeFormer'...\n",
      "remote: Enumerating objects: 594, done.\u001b[K\n",
      "remote: Counting objects: 100% (245/245), done.\u001b[K\n",
      "remote: Compressing objects: 100% (88/88), done.\u001b[K\n",
      "remote: Total 594 (delta 175), reused 173 (delta 157), pack-reused 349\u001b[K\n",
      "Receiving objects: 100% (594/594), 17.31 MiB | 20.73 MiB/s, done.\n",
      "Resolving deltas: 100% (286/286), done.\n",
      "Cloning BLIP into /home/sorb/source_code/Automatic1111_Base_Notebook/stable-diffusion-webui/repositories/BLIP...\n",
      "Cloning into '/home/sorb/source_code/Automatic1111_Base_Notebook/stable-diffusion-webui/repositories/BLIP'...\n",
      "remote: Enumerating objects: 277, done.\u001b[K\n",
      "remote: Counting objects: 100% (165/165), done.\u001b[K\n",
      "remote: Compressing objects: 100% (30/30), done.\u001b[K\n",
      "remote: Total 277 (delta 137), reused 136 (delta 135), pack-reused 112\u001b[K\n",
      "Receiving objects: 100% (277/277), 7.03 MiB | 13.41 MiB/s, done.\n",
      "Resolving deltas: 100% (152/152), done.\n",
      "Launching Web UI with arguments: --share --enable-insecure-extension-access\n",
      "no module 'xformers'. Processing without...\n",
      "no module 'xformers'. Processing without...\n",
      "No module 'xformers'. Proceeding without it.\n",
      "Calculating sha256 for /home/sorb/source_code/Automatic1111_Base_Notebook/stable-diffusion-webui/models/Stable-diffusion/realisticVisionV51_v51VAE.safetensors: Running on local URL:  http://127.0.0.1:7860\n",
      "\n",
      "Could not create share link. Please check your internet connection or our status page: https://status.gradio.app.\n",
      "Startup time: 31.3s (prepare environment: 17.0s, import torch: 5.1s, import gradio: 2.3s, setup paths: 0.7s, initialize shared: 0.5s, other imports: 1.1s, setup codeformer: 0.4s, load scripts: 0.7s, initialize extra networks: 0.2s, create ui: 2.0s, gradio launch: 1.4s).\n",
      "15012c538f503ce2ebfc2c8547b268c75ccdaff7a281db55399940ff1d70e21d\n",
      "Loading weights [15012c538f] from /home/sorb/source_code/Automatic1111_Base_Notebook/stable-diffusion-webui/models/Stable-diffusion/realisticVisionV51_v51VAE.safetensors\n",
      "Creating model from config: /home/sorb/source_code/Automatic1111_Base_Notebook/stable-diffusion-webui/configs/v1-inference.yaml\n",
      "Applying attention optimization: Doggettx... done.\n",
      "Model loaded in 10.0s (calculate hash: 6.3s, load weights from disk: 0.2s, load config: 0.7s, create model: 0.7s, apply weights to model: 0.9s, calculate empty prompt: 1.0s).\n"
     ]
    }
   ],
   "source": [
    "!python launch.py --share --enable-insecure-extension-access"
   ]
  },
  {
   "cell_type": "code",
   "execution_count": null,
   "id": "078293c1",
   "metadata": {},
   "outputs": [],
   "source": []
  }
 ],
 "metadata": {
  "environment": {
   "kernel": "python3",
   "name": "pytorch-gpu.2-0.m111",
   "type": "gcloud",
   "uri": "gcr.io/deeplearning-platform-release/pytorch-gpu.2-0:m111"
  },
  "kernelspec": {
   "display_name": "Python 3",
   "language": "python",
   "name": "python3"
  },
  "language_info": {
   "codemirror_mode": {
    "name": "ipython",
    "version": 3
   },
   "file_extension": ".py",
   "mimetype": "text/x-python",
   "name": "python",
   "nbconvert_exporter": "python",
   "pygments_lexer": "ipython3",
   "version": "3.10.12"
  }
 },
 "nbformat": 4,
 "nbformat_minor": 5
}
