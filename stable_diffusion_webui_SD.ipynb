{
 "cells": [
  {
   "cell_type": "markdown",
   "id": "4e05eab5",
   "metadata": {},
   "source": [
    "# **Automatic1111 base notebook** \n",
    "**Notebook creado por [Sergio Redondo](https://www.linkedin.com/in/sergioredondocabanillas/)**"
   ]
  },
  {
   "cell_type": "markdown",
   "id": "228776d3",
   "metadata": {},
   "source": [
    "Es recomendable reiniciar el kernel antes de ejecutar todo para reiniciar las rutas del repositorio."
   ]
  },
  {
   "cell_type": "markdown",
   "id": "bc7b8646-9f39-494c-b266-70a16e077300",
   "metadata": {},
   "source": [
    "# Instalacion"
   ]
  },
  {
   "cell_type": "markdown",
   "id": "4b5e538c",
   "metadata": {},
   "source": [
    "Importamos las librerias"
   ]
  },
  {
   "cell_type": "code",
   "execution_count": 1,
   "id": "14da0504",
   "metadata": {
    "tags": []
   },
   "outputs": [],
   "source": [
    "import os\n",
    "import requests\n",
    "from tqdm.auto import tqdm"
   ]
  },
  {
   "cell_type": "markdown",
   "id": "e66ee3f8",
   "metadata": {},
   "source": [
    "Este metodo nos permitira descargar los modelos y demas"
   ]
  },
  {
   "cell_type": "code",
   "execution_count": 2,
   "id": "8c8067cd",
   "metadata": {
    "tags": []
   },
   "outputs": [],
   "source": [
    "def download_file(url, save_name):\n",
    "    if not os.path.exists(save_name):\n",
    "        print(f\"Downloading file\")\n",
    "        file = requests.get(url, stream=True)\n",
    "        total_size = int(file.headers.get('content-length', 0))\n",
    "        block_size = 1024\n",
    "        progress_bar = tqdm(\n",
    "            total=total_size, \n",
    "            unit='iB', \n",
    "            unit_scale=True\n",
    "        )\n",
    "        with open(os.path.join(save_name), 'wb') as f:\n",
    "            for data in file.iter_content(block_size):\n",
    "                progress_bar.update(len(data))\n",
    "                f.write(data)\n",
    "        progress_bar.close()\n",
    "    else:\n",
    "        print('File already present')"
   ]
  },
  {
   "cell_type": "markdown",
   "id": "608a18d7",
   "metadata": {},
   "source": [
    "Clonamos el repositorio"
   ]
  },
  {
   "cell_type": "code",
   "execution_count": 3,
   "id": "06b3fffd",
   "metadata": {
    "tags": []
   },
   "outputs": [],
   "source": [
    "if not os.path.exists('stable-diffusion-webui'):\n",
    "    !git clone https://github.com/AUTOMATIC1111/stable-diffusion-webui.git"
   ]
  },
  {
   "cell_type": "markdown",
   "id": "a9d590e9-e948-468d-9435-b71f51842983",
   "metadata": {},
   "source": [
    "# Download models"
   ]
  },
  {
   "cell_type": "markdown",
   "id": "8b5e7b9e",
   "metadata": {},
   "source": [
    "Navegamos a la ruta donde descargaremos los modelos"
   ]
  },
  {
   "cell_type": "code",
   "execution_count": 4,
   "id": "e676564b",
   "metadata": {
    "tags": []
   },
   "outputs": [
    {
     "name": "stdout",
     "output_type": "stream",
     "text": [
      "/home/sorb/source_code/Automatic1111_Base_Notebook/stable-diffusion-webui/models/Stable-diffusion\n"
     ]
    }
   ],
   "source": [
    "%cd stable-diffusion-webui/models/Stable-diffusion"
   ]
  },
  {
   "cell_type": "markdown",
   "id": "4de6347c",
   "metadata": {},
   "source": [
    "Descargamos los modelos"
   ]
  },
  {
   "cell_type": "code",
   "execution_count": null,
   "id": "500a9088",
   "metadata": {
    "tags": []
   },
   "outputs": [],
   "source": [
    "download_file(\n",
    "    'https://huggingface.co/runwayml/stable-diffusion-v1-5/resolve/main/v1-5-pruned-emaonly.ckpt',\n",
    "    'v1-5-pruned-emaonly.ckpt'\n",
    ")"
   ]
  },
  {
   "cell_type": "code",
   "execution_count": null,
   "id": "5d048826",
   "metadata": {
    "tags": []
   },
   "outputs": [],
   "source": [
    "download_file(\n",
    "    'https://huggingface.co/stabilityai/stable-diffusion-2-1-base/resolve/main/v2-1_512-ema-pruned.ckpt',\n",
    "    'v2-1_512-ema-pruned.ckpt'\n",
    ")"
   ]
  },
  {
   "cell_type": "code",
   "execution_count": null,
   "id": "07f0e63b-8561-4669-b53f-e1c24165d00b",
   "metadata": {},
   "outputs": [],
   "source": [
    "download_file(\n",
    "    'https://huggingface.co/stabilityai/stable-diffusion-xl-base-1.0/resolve/main/sd_xl_base_1.0.safetensors',\n",
    "    'sd_xl_base_1.0.safetensors'\n",
    ")"
   ]
  },
  {
   "cell_type": "code",
   "execution_count": null,
   "id": "7c90dee0-694a-456a-a495-301c26e8b99d",
   "metadata": {},
   "outputs": [],
   "source": [
    "download_file(\n",
    "    'https://civitai.com/api/download/models/130072',\n",
    "    'realisticVisionV51_v51VAE.safetensors'\n",
    ")"
   ]
  },
  {
   "cell_type": "code",
   "execution_count": null,
   "id": "8a8c0c2f-eac4-43d8-bca8-a919ff9eda9f",
   "metadata": {},
   "outputs": [],
   "source": [
    "download_file(\n",
    "    'https://civitai.com/api/download/models/125771',\n",
    "    'toonyou.safetensors'\n",
    ")"
   ]
  },
  {
   "cell_type": "markdown",
   "id": "b8c596e8",
   "metadata": {},
   "source": [
    "# LORA models"
   ]
  },
  {
   "cell_type": "markdown",
   "id": "1b3b0a5e",
   "metadata": {},
   "source": [
    "Creamos la carpeta lora si no existe"
   ]
  },
  {
   "cell_type": "code",
   "execution_count": null,
   "id": "d4174bec",
   "metadata": {},
   "outputs": [],
   "source": [
    "%cd .."
   ]
  },
  {
   "cell_type": "code",
   "execution_count": null,
   "id": "f646faf6",
   "metadata": {},
   "outputs": [],
   "source": [
    "import os\n",
    "\n",
    "if not os.path.exists('Lora'):\n",
    "    os.mkdir('Lora')"
   ]
  },
  {
   "cell_type": "code",
   "execution_count": null,
   "id": "40398180",
   "metadata": {},
   "outputs": [],
   "source": [
    "%cd Lora"
   ]
  },
  {
   "cell_type": "code",
   "execution_count": null,
   "id": "1d8ba74f",
   "metadata": {},
   "outputs": [],
   "source": [
    "download_file(\n",
    "    'https://civitai.com/api/download/models/5737',\n",
    "    'toriyama_akira_3.safetensors'\n",
    ")"
   ]
  },
  {
   "cell_type": "markdown",
   "id": "57878849-0a9c-45c4-b692-71520a220441",
   "metadata": {},
   "source": [
    "# CONTROLNET"
   ]
  },
  {
   "cell_type": "markdown",
   "id": "18d68ed0",
   "metadata": {},
   "source": [
    "Creamos la carpeta controlnet si no existe"
   ]
  },
  {
   "cell_type": "code",
   "execution_count": 5,
   "id": "5c1b54b6",
   "metadata": {},
   "outputs": [
    {
     "name": "stdout",
     "output_type": "stream",
     "text": [
      "/home/sorb/source_code/Automatic1111_Base_Notebook/stable-diffusion-webui\n"
     ]
    }
   ],
   "source": [
    "%cd ../../extensions"
   ]
  },
  {
   "cell_type": "code",
   "execution_count": null,
   "id": "8a346094",
   "metadata": {},
   "outputs": [],
   "source": [
    "import os\n",
    "\n",
    "if not os.path.exists('ControlNet'):\n",
    "    os.mkdir('ControlNet')"
   ]
  },
  {
   "cell_type": "markdown",
   "id": "117272ee",
   "metadata": {},
   "source": [
    "Navegamos a la ruta donde descargaremos los modelos de controlnet"
   ]
  },
  {
   "cell_type": "code",
   "execution_count": null,
   "id": "fe55d5f6-88c3-41c1-89e1-dd6290f3bfe9",
   "metadata": {},
   "outputs": [],
   "source": [
    "%cd ControlNet"
   ]
  },
  {
   "cell_type": "code",
   "execution_count": null,
   "id": "ccbc1cfd-86c8-42d1-bf8f-43bc0cc43c85",
   "metadata": {},
   "outputs": [],
   "source": [
    "!git clone https://huggingface.co/lllyasviel/ControlNet-v1-1"
   ]
  },
  {
   "cell_type": "code",
   "execution_count": null,
   "id": "fdde481c-6a41-4939-8a0a-f05bc827a741",
   "metadata": {},
   "outputs": [],
   "source": [
    "import os\n",
    "import shutil\n",
    "\n",
    "# Move all .pth files to parent directory\n",
    "src_dir = 'ControlNet-v1-1'\n",
    "dst_dir = ''\n",
    "for file_name in os.listdir(src_dir):\n",
    "    if file_name.endswith('.pth'):\n",
    "        src_path = os.path.join(src_dir, file_name)\n",
    "        dst_path = os.path.join(dst_dir, file_name)\n",
    "        shutil.move(src_path, dst_path)\n",
    "\n",
    "# Remove ControlNet-v1-1 directory\n",
    "shutil.rmtree(src_dir)"
   ]
  },
  {
   "cell_type": "markdown",
   "id": "f6624a92-36e5-4d8f-9575-4e3aaf7c5519",
   "metadata": {},
   "source": [
    "# RUNNING"
   ]
  },
  {
   "cell_type": "code",
   "execution_count": null,
   "id": "fb7dd593",
   "metadata": {
    "tags": []
   },
   "outputs": [],
   "source": [
    "%cd ../../"
   ]
  },
  {
   "cell_type": "code",
   "execution_count": null,
   "id": "cc057f5b",
   "metadata": {
    "tags": []
   },
   "outputs": [],
   "source": [
    "!python launch.py --share --enable-insecure-extension-access"
   ]
  }
 ],
 "metadata": {
  "environment": {
   "kernel": "python3",
   "name": "pytorch-gpu.2-0.m111",
   "type": "gcloud",
   "uri": "gcr.io/deeplearning-platform-release/pytorch-gpu.2-0:m111"
  },
  "kernelspec": {
   "display_name": "Python 3",
   "language": "python",
   "name": "python3"
  },
  "language_info": {
   "codemirror_mode": {
    "name": "ipython",
    "version": 3
   },
   "file_extension": ".py",
   "mimetype": "text/x-python",
   "name": "python",
   "nbconvert_exporter": "python",
   "pygments_lexer": "ipython3",
   "version": "3.10.12"
  }
 },
 "nbformat": 4,
 "nbformat_minor": 5
}
