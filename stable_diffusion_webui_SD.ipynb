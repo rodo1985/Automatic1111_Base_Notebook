{
 "cells": [
  {
   "cell_type": "markdown",
   "id": "4e05eab5",
   "metadata": {},
   "source": [
    "# **Automatic1111 base notebook** \n",
    "**Notebook creado por [Sergio Redondo](https://www.linkedin.com/in/sergioredondocabanillas/)**"
   ]
  },
  {
   "cell_type": "markdown",
   "id": "228776d3",
   "metadata": {},
   "source": [
    "Es recomendable reiniciar el kernel antes de ejecutar todo para reiniciar las rutas del repositorio."
   ]
  },
  {
   "cell_type": "markdown",
   "id": "bc7b8646-9f39-494c-b266-70a16e077300",
   "metadata": {},
   "source": [
    "# Instalacion"
   ]
  },
  {
   "cell_type": "markdown",
   "id": "4b5e538c",
   "metadata": {},
   "source": [
    "Instalamos e importamos las librerias"
   ]
  },
  {
   "cell_type": "code",
   "execution_count": 1,
   "id": "2629080f",
   "metadata": {},
   "outputs": [
    {
     "name": "stdout",
     "output_type": "stream",
     "text": [
      "Requirement already satisfied: tqdm in /opt/conda/lib/python3.10/site-packages (4.66.1)\n",
      "\u001b[33mDEPRECATION: torchsde 0.2.5 has a non-standard dependency specifier numpy>=1.19.*; python_version >= \"3.7\". pip 23.3 will enforce this behaviour change. A possible replacement is to upgrade to a newer version of torchsde or contact the author to suggest that they release a version with a conforming dependency specifiers. Discussion can be found at https://github.com/pypa/pip/issues/12063\u001b[0m\u001b[33m\n",
      "\u001b[0mRequirement already satisfied: requests in /opt/conda/lib/python3.10/site-packages (2.31.0)\n",
      "Requirement already satisfied: charset-normalizer<4,>=2 in /opt/conda/lib/python3.10/site-packages (from requests) (3.2.0)\n",
      "Requirement already satisfied: idna<4,>=2.5 in /opt/conda/lib/python3.10/site-packages (from requests) (3.4)\n",
      "Requirement already satisfied: urllib3<3,>=1.21.1 in /opt/conda/lib/python3.10/site-packages (from requests) (1.26.16)\n",
      "Requirement already satisfied: certifi>=2017.4.17 in /opt/conda/lib/python3.10/site-packages (from requests) (2023.7.22)\n",
      "\u001b[33mDEPRECATION: torchsde 0.2.5 has a non-standard dependency specifier numpy>=1.19.*; python_version >= \"3.7\". pip 23.3 will enforce this behaviour change. A possible replacement is to upgrade to a newer version of torchsde or contact the author to suggest that they release a version with a conforming dependency specifiers. Discussion can be found at https://github.com/pypa/pip/issues/12063\u001b[0m\u001b[33m\n",
      "\u001b[0m"
     ]
    }
   ],
   "source": [
    "!pip install tqdm\n",
    "!pip install requests"
   ]
  },
  {
   "cell_type": "code",
   "execution_count": 2,
   "id": "14da0504",
   "metadata": {
    "tags": []
   },
   "outputs": [],
   "source": [
    "import os\n",
    "import requests\n",
    "from tqdm.auto import tqdm"
   ]
  },
  {
   "cell_type": "markdown",
   "id": "e66ee3f8",
   "metadata": {},
   "source": [
    "Este metodo nos permitira descargar los modelos y demas"
   ]
  },
  {
   "cell_type": "code",
   "execution_count": 3,
   "id": "8c8067cd",
   "metadata": {
    "tags": []
   },
   "outputs": [],
   "source": [
    "def download_file(url, save_name):\n",
    "    if not os.path.exists(save_name):\n",
    "        print(f\"Downloading file\")\n",
    "        file = requests.get(url, stream=True)\n",
    "        total_size = int(file.headers.get('content-length', 0))\n",
    "        block_size = 1024\n",
    "        progress_bar = tqdm(\n",
    "            total=total_size, \n",
    "            unit='iB', \n",
    "            unit_scale=True\n",
    "        )\n",
    "        with open(os.path.join(save_name), 'wb') as f:\n",
    "            for data in file.iter_content(block_size):\n",
    "                progress_bar.update(len(data))\n",
    "                f.write(data)\n",
    "        progress_bar.close()\n",
    "    else:\n",
    "        print('File already present')"
   ]
  },
  {
   "cell_type": "markdown",
   "id": "608a18d7",
   "metadata": {},
   "source": [
    "Clonamos el repositorio"
   ]
  },
  {
   "cell_type": "code",
   "execution_count": 4,
   "id": "06b3fffd",
   "metadata": {
    "tags": []
   },
   "outputs": [],
   "source": [
    "if not os.path.exists('stable-diffusion-webui'):\n",
    "    !git clone https://github.com/AUTOMATIC1111/stable-diffusion-webui.git"
   ]
  },
  {
   "cell_type": "markdown",
   "id": "a9d590e9-e948-468d-9435-b71f51842983",
   "metadata": {},
   "source": [
    "# Download models"
   ]
  },
  {
   "cell_type": "markdown",
   "id": "8b5e7b9e",
   "metadata": {},
   "source": [
    "Navegamos a la ruta donde descargaremos los modelos"
   ]
  },
  {
   "cell_type": "code",
   "execution_count": 5,
   "id": "e676564b",
   "metadata": {
    "tags": []
   },
   "outputs": [
    {
     "name": "stdout",
     "output_type": "stream",
     "text": [
      "/home/jupyter/stable-diffusion-webui/models/Stable-diffusion\n"
     ]
    }
   ],
   "source": [
    "%cd stable-diffusion-webui/models/Stable-diffusion"
   ]
  },
  {
   "cell_type": "markdown",
   "id": "4de6347c",
   "metadata": {},
   "source": [
    "Descargamos los modelos"
   ]
  },
  {
   "cell_type": "code",
   "execution_count": 6,
   "id": "500a9088",
   "metadata": {
    "tags": []
   },
   "outputs": [
    {
     "name": "stdout",
     "output_type": "stream",
     "text": [
      "File already present\n"
     ]
    }
   ],
   "source": [
    "download_file(\n",
    "    'https://huggingface.co/runwayml/stable-diffusion-v1-5/resolve/main/v1-5-pruned-emaonly.ckpt',\n",
    "    'v1-5-pruned-emaonly.ckpt'\n",
    ")"
   ]
  },
  {
   "cell_type": "code",
   "execution_count": 7,
   "id": "5d048826",
   "metadata": {
    "tags": []
   },
   "outputs": [
    {
     "name": "stdout",
     "output_type": "stream",
     "text": [
      "File already present\n"
     ]
    }
   ],
   "source": [
    "download_file(\n",
    "    'https://huggingface.co/stabilityai/stable-diffusion-2-1-base/resolve/main/v2-1_512-ema-pruned.ckpt',\n",
    "    'v2-1_512-ema-pruned.ckpt'\n",
    ")"
   ]
  },
  {
   "cell_type": "code",
   "execution_count": 8,
   "id": "07f0e63b-8561-4669-b53f-e1c24165d00b",
   "metadata": {},
   "outputs": [
    {
     "name": "stdout",
     "output_type": "stream",
     "text": [
      "File already present\n"
     ]
    }
   ],
   "source": [
    "download_file(\n",
    "    'https://huggingface.co/stabilityai/stable-diffusion-xl-base-1.0/resolve/main/sd_xl_base_1.0.safetensors',\n",
    "    'sd_xl_base_1.0.safetensors'\n",
    ")"
   ]
  },
  {
   "cell_type": "code",
   "execution_count": 9,
   "id": "7c90dee0-694a-456a-a495-301c26e8b99d",
   "metadata": {},
   "outputs": [
    {
     "name": "stdout",
     "output_type": "stream",
     "text": [
      "File already present\n"
     ]
    }
   ],
   "source": [
    "download_file(\n",
    "    'https://civitai.com/api/download/models/130072',\n",
    "    'realisticVisionV51_v51VAE.safetensors'\n",
    ")"
   ]
  },
  {
   "cell_type": "code",
   "execution_count": 10,
   "id": "8a8c0c2f-eac4-43d8-bca8-a919ff9eda9f",
   "metadata": {},
   "outputs": [
    {
     "name": "stdout",
     "output_type": "stream",
     "text": [
      "File already present\n"
     ]
    }
   ],
   "source": [
    "download_file(\n",
    "    'https://civitai.com/api/download/models/125771',\n",
    "    'toonyou.safetensors'\n",
    ")"
   ]
  },
  {
   "cell_type": "markdown",
   "id": "b8c596e8",
   "metadata": {},
   "source": [
    "# LORA models"
   ]
  },
  {
   "cell_type": "markdown",
   "id": "1b3b0a5e",
   "metadata": {},
   "source": [
    "Creamos la carpeta lora si no existe"
   ]
  },
  {
   "cell_type": "code",
   "execution_count": 11,
   "id": "f646faf6",
   "metadata": {},
   "outputs": [
    {
     "name": "stdout",
     "output_type": "stream",
     "text": [
      "/home/jupyter/stable-diffusion-webui/models\n"
     ]
    }
   ],
   "source": [
    "%cd ..\n",
    "\n",
    "if not os.path.exists('Lora'):\n",
    "    os.mkdir('Lora')"
   ]
  },
  {
   "cell_type": "code",
   "execution_count": 12,
   "id": "40398180",
   "metadata": {},
   "outputs": [
    {
     "name": "stdout",
     "output_type": "stream",
     "text": [
      "/home/jupyter/stable-diffusion-webui/models/Lora\n"
     ]
    }
   ],
   "source": [
    "%cd Lora"
   ]
  },
  {
   "cell_type": "code",
   "execution_count": 13,
   "id": "1d8ba74f",
   "metadata": {},
   "outputs": [
    {
     "name": "stdout",
     "output_type": "stream",
     "text": [
      "File already present\n"
     ]
    }
   ],
   "source": [
    "download_file(\n",
    "    'https://civitai.com/api/download/models/5737',\n",
    "    'toriyama_akira_3.safetensors'\n",
    ")"
   ]
  },
  {
   "cell_type": "markdown",
   "id": "3d4ab1ab",
   "metadata": {},
   "source": [
    "# CONTROLNET"
   ]
  },
  {
   "cell_type": "markdown",
   "id": "cef124f2",
   "metadata": {},
   "source": [
    "Descargamos los modelos de huggingface si tenemos el pluggin de controlnet instalado. Podeis instalar mas modelos obteniendo las rutas de los modelos con extension pth en el siguiente [link](https://huggingface.co/lllyasviel/ControlNet-v1-1/tree/main)"
   ]
  },
  {
   "cell_type": "code",
   "execution_count": 14,
   "id": "7c87b807",
   "metadata": {},
   "outputs": [
    {
     "name": "stdout",
     "output_type": "stream",
     "text": [
      "/home/jupyter/stable-diffusion-webui\n",
      "cool\n",
      "/home/jupyter/stable-diffusion-webui/extensions/sd-webui-controlnet/models\n",
      "Downloading file\n"
     ]
    },
    {
     "data": {
      "application/vnd.jupyter.widget-view+json": {
       "model_id": "e6494befaf03418fad723d315e62d073",
       "version_major": 2,
       "version_minor": 0
      },
      "text/plain": [
       "  0%|          | 0.00/1.45G [00:00<?, ?iB/s]"
      ]
     },
     "metadata": {},
     "output_type": "display_data"
    },
    {
     "name": "stdout",
     "output_type": "stream",
     "text": [
      "Downloading file\n"
     ]
    },
    {
     "data": {
      "application/vnd.jupyter.widget-view+json": {
       "model_id": "4e5e5761063148228a49db814148e40f",
       "version_major": 2,
       "version_minor": 0
      },
      "text/plain": [
       "  0%|          | 0.00/1.45G [00:00<?, ?iB/s]"
      ]
     },
     "metadata": {},
     "output_type": "display_data"
    },
    {
     "name": "stdout",
     "output_type": "stream",
     "text": [
      "Downloading file\n"
     ]
    },
    {
     "data": {
      "application/vnd.jupyter.widget-view+json": {
       "model_id": "8562c0414bc34bd99b010fe0dbe3b797",
       "version_major": 2,
       "version_minor": 0
      },
      "text/plain": [
       "  0%|          | 0.00/1.45G [00:00<?, ?iB/s]"
      ]
     },
     "metadata": {},
     "output_type": "display_data"
    },
    {
     "name": "stdout",
     "output_type": "stream",
     "text": [
      "Downloading file\n"
     ]
    },
    {
     "data": {
      "application/vnd.jupyter.widget-view+json": {
       "model_id": "cea79d42703143a6a15990c025150754",
       "version_major": 2,
       "version_minor": 0
      },
      "text/plain": [
       "  0%|          | 0.00/1.45G [00:00<?, ?iB/s]"
      ]
     },
     "metadata": {},
     "output_type": "display_data"
    },
    {
     "name": "stdout",
     "output_type": "stream",
     "text": [
      "/home/jupyter/stable-diffusion-webui\n"
     ]
    }
   ],
   "source": [
    "# navemos a la razi del proyecto\n",
    "%cd ../..\n",
    "\n",
    "if os.path.exists('extensions/sd-webui-controlnet/models'):\n",
    "    print('cool')\n",
    "    \n",
    "    # navegamos a la carpeta de los modelos\n",
    "    %cd extensions/sd-webui-controlnet/models\n",
    "\n",
    "    download_file(\n",
    "        'https://huggingface.co/lllyasviel/ControlNet-v1-1/resolve/main/control_v11f1p_sd15_depth.pth',\n",
    "        'control_v11f1p_sd15_depth.pth'\n",
    "    )\n",
    "    download_file(\n",
    "        'https://huggingface.co/lllyasviel/ControlNet-v1-1/resolve/main/control_v11p_sd15_canny.pth',\n",
    "        'control_v11p_sd15_canny.pth'\n",
    "    )\n",
    "    download_file(\n",
    "        'https://huggingface.co/lllyasviel/ControlNet-v1-1/resolve/main/control_v11p_sd15_openpose.pth',\n",
    "        'control_v11p_sd15_openpose.pth'\n",
    "    )\n",
    "    download_file(\n",
    "        'https://huggingface.co/lllyasviel/ControlNet-v1-1/resolve/main/control_v11p_sd15_seg.pth',\n",
    "        'control_v11p_sd15_seg.pth'\n",
    "    )\n",
    "    \n",
    "    \n",
    "    # volvemos a la raiz\n",
    "    %cd ../../.."
   ]
  },
  {
   "cell_type": "markdown",
   "id": "f6624a92-36e5-4d8f-9575-4e3aaf7c5519",
   "metadata": {},
   "source": [
    "# RUNNING"
   ]
  },
  {
   "cell_type": "code",
   "execution_count": null,
   "id": "cc057f5b",
   "metadata": {
    "tags": []
   },
   "outputs": [
    {
     "name": "stdout",
     "output_type": "stream",
     "text": [
      "Python 3.10.12 | packaged by conda-forge | (main, Jun 23 2023, 22:40:32) [GCC 12.3.0]\n",
      "Version: v1.6.0\n",
      "Commit hash: 5ef669de080814067961f28357256e8fe27544f4\n",
      "Launching Web UI with arguments: --share --enable-insecure-extension-access\n",
      "no module 'xformers'. Processing without...\n",
      "no module 'xformers'. Processing without...\n",
      "No module 'xformers'. Proceeding without it.\n",
      "2023-10-20 11:07:26,721 - ControlNet - \u001b[0;32mINFO\u001b[0m - ControlNet v1.1.411\n",
      "ControlNet preprocessor location: /home/jupyter/stable-diffusion-webui/extensions/sd-webui-controlnet/annotator/downloads\n",
      "2023-10-20 11:07:26,890 - ControlNet - \u001b[0;32mINFO\u001b[0m - ControlNet v1.1.411\n",
      "Loading weights [15012c538f] from /home/jupyter/stable-diffusion-webui/models/Stable-diffusion/realisticVisionV51_v51VAE.safetensors\n",
      "Creating model from config: /home/jupyter/stable-diffusion-webui/configs/v1-inference.yaml\n",
      "Running on local URL:  http://127.0.0.1:7860\n",
      "Applying attention optimization: Doggettx... done.\n",
      "Model loaded in 2.8s (load weights from disk: 1.1s, create model: 0.5s, apply weights to model: 0.9s, calculate empty prompt: 0.1s).\n",
      "Running on public URL: https://a7475b20f0fae0c162.gradio.live\n",
      "\n",
      "This share link expires in 72 hours. For free permanent hosting and GPU upgrades, run `gradio deploy` from Terminal to deploy to Spaces (https://huggingface.co/spaces)\n",
      "Startup time: 18.6s (prepare environment: 2.1s, import torch: 3.4s, import gradio: 3.9s, setup paths: 0.7s, initialize shared: 0.7s, other imports: 1.0s, setup codeformer: 0.2s, load scripts: 1.3s, create ui: 0.7s, gradio launch: 4.6s).\n"
     ]
    }
   ],
   "source": [
    "!python launch.py --share --enable-insecure-extension-access"
   ]
  }
 ],
 "metadata": {
  "environment": {
   "kernel": "python3",
   "name": "pytorch-gpu.2-0.m111",
   "type": "gcloud",
   "uri": "gcr.io/deeplearning-platform-release/pytorch-gpu.2-0:m111"
  },
  "kernelspec": {
   "display_name": "Python 3",
   "language": "python",
   "name": "python3"
  },
  "language_info": {
   "codemirror_mode": {
    "name": "ipython",
    "version": 3
   },
   "file_extension": ".py",
   "mimetype": "text/x-python",
   "name": "python",
   "nbconvert_exporter": "python",
   "pygments_lexer": "ipython3",
   "version": "3.10.12"
  }
 },
 "nbformat": 4,
 "nbformat_minor": 5
}
